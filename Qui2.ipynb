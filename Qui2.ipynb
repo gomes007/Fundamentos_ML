{
 "cells": [
  {
   "cell_type": "code",
   "execution_count": 1,
   "metadata": {},
   "outputs": [],
   "source": [
    "from scipy.stats import chisquare\n",
    "from scipy.stats import chi2_contingency"
   ]
  },
  {
   "cell_type": "code",
   "execution_count": 2,
   "metadata": {},
   "outputs": [],
   "source": [
    "# Frequências observadas (quantas vezes cada face apareceu)\n",
    "observado = [0, 12, 10, 11, 11, 16]\n",
    "\n",
    "# Frequências esperadas (se o dado for justo, cada face deve aparecer 10 vezes)\n",
    "esperado = [10, 10, 10, 10, 10, 10]"
   ]
  },
  {
   "cell_type": "code",
   "execution_count": 3,
   "metadata": {},
   "outputs": [],
   "source": [
    "estatistica, p_valor = chisquare(observado, f_exp=esperado)"
   ]
  },
  {
   "cell_type": "code",
   "execution_count": 4,
   "metadata": {},
   "outputs": [
    {
     "name": "stdout",
     "output_type": "stream",
     "text": [
      "Estatística do teste: 14.2\n",
      "Valor-p: 0.01438767817692133\n"
     ]
    }
   ],
   "source": [
    "# Resultados\n",
    "print(f\"Estatística do teste: {estatistica}\")\n",
    "print(f\"Valor-p: {p_valor}\")"
   ]
  },
  {
   "cell_type": "code",
   "execution_count": 5,
   "metadata": {},
   "outputs": [
    {
     "name": "stdout",
     "output_type": "stream",
     "text": [
      "Rejeitamos a hipótese nula: o dado NÃO é justo.\n"
     ]
    }
   ],
   "source": [
    "# Interpretação\n",
    "if p_valor < 0.05:\n",
    "    print(\"Rejeitamos a hipótese nula: o dado NÃO é justo.\")\n",
    "else:\n",
    "    print(\"Não rejeitamos a hipótese nula: o dado é justo.\")"
   ]
  },
  {
   "cell_type": "code",
   "execution_count": 6,
   "metadata": {},
   "outputs": [],
   "source": [
    "# Tabela de contingência (dados observados)\n",
    "dados = [\n",
    "    [30, 20],  # Masculino: Ação, Romance\n",
    "    [10, 40]   # Feminino: Ação, Romance\n",
    "]"
   ]
  },
  {
   "cell_type": "code",
   "execution_count": 7,
   "metadata": {},
   "outputs": [],
   "source": [
    "# Aplicar o teste qui-quadrado\n",
    "estatistica, p_valor, graus_liberdade, esperado = chi2_contingency(dados)"
   ]
  },
  {
   "cell_type": "code",
   "execution_count": 8,
   "metadata": {},
   "outputs": [
    {
     "name": "stdout",
     "output_type": "stream",
     "text": [
      "Estatística do teste: 15.041666666666668\n",
      "Valor-p: 0.00010516355403363114\n",
      "Graus de liberdade: 1\n",
      "Frequências esperadas:\n",
      "[[20. 30.]\n",
      " [20. 30.]]\n"
     ]
    }
   ],
   "source": [
    "# Resultados\n",
    "print(f\"Estatística do teste: {estatistica}\")\n",
    "print(f\"Valor-p: {p_valor}\")\n",
    "print(f\"Graus de liberdade: {graus_liberdade}\")\n",
    "print(\"Frequências esperadas:\")\n",
    "print(esperado)"
   ]
  },
  {
   "cell_type": "code",
   "execution_count": 9,
   "metadata": {},
   "outputs": [
    {
     "name": "stdout",
     "output_type": "stream",
     "text": [
      "Rejeitamos a hipótese nula: há associação entre gênero e preferência por filme.\n"
     ]
    }
   ],
   "source": [
    "# Interpretação\n",
    "if p_valor < 0.05:\n",
    "    print(\"Rejeitamos a hipótese nula: há associação entre gênero e preferência por filme.\")\n",
    "else:\n",
    "    print(\"Não rejeitamos a hipótese nula: não há associação entre gênero e preferência por filme.\")"
   ]
  }
 ],
 "metadata": {
  "kernelspec": {
   "display_name": "Python 3",
   "language": "python",
   "name": "python3"
  },
  "language_info": {
   "codemirror_mode": {
    "name": "ipython",
    "version": 3
   },
   "file_extension": ".py",
   "mimetype": "text/x-python",
   "name": "python",
   "nbconvert_exporter": "python",
   "pygments_lexer": "ipython3",
   "version": "3.9.13"
  }
 },
 "nbformat": 4,
 "nbformat_minor": 2
}
