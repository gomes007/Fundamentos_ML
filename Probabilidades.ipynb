{
 "cells": [
  {
   "cell_type": "markdown",
   "metadata": {},
   "source": [
    "# Binomial"
   ]
  },
  {
   "cell_type": "code",
   "execution_count": 4,
   "metadata": {},
   "outputs": [],
   "source": [
    "from scipy.stats import binom"
   ]
  },
  {
   "cell_type": "code",
   "execution_count": 2,
   "metadata": {},
   "outputs": [],
   "source": [
    "# Parâmetros\n",
    "n = 5  # Número de tentativas\n",
    "p = 0.5  # Probabilidade de sucesso\n",
    "k = 3  # Número de sucessos desejados"
   ]
  },
  {
   "cell_type": "code",
   "execution_count": 3,
   "metadata": {},
   "outputs": [
    {
     "name": "stdout",
     "output_type": "stream",
     "text": [
      "Probabilidade de obter 3 sucessos em 5 tentativas: 0.31\n"
     ]
    }
   ],
   "source": [
    "probabilidade = binom.pmf(k, n, p)\n",
    "print(f'Probabilidade de obter {k} sucessos em {n} tentativas: {probabilidade:.2f}')"
   ]
  },
  {
   "cell_type": "markdown",
   "metadata": {},
   "source": [
    "# Distribuição Binomial Negativa"
   ]
  },
  {
   "cell_type": "code",
   "execution_count": 8,
   "metadata": {},
   "outputs": [
    {
     "name": "stdout",
     "output_type": "stream",
     "text": [
      "a) Probabilidade de 10 jogadas para 3 itens: 0.0212\n",
      "b) Probabilidade de 20 jogadas para 3 itens: 0.0314\n",
      "c) Probabilidade de 5 jogadas para 1 item: 0.0690\n"
     ]
    }
   ],
   "source": [
    "from scipy.stats import nbinom\n",
    "\n",
    "# Parâmetros\n",
    "p = 0.11  # Probabilidade de sucesso\n",
    "\n",
    "# a) 10 jogadas para capturar 3 itens\n",
    "r_a, k_a = 3, 10\n",
    "prob_a = nbinom.pmf(k_a - r_a, r_a, p)\n",
    "\n",
    "# b) 20 jogadas para capturar 3 itens\n",
    "r_b, k_b = 3, 20\n",
    "prob_b = nbinom.pmf(k_b - r_b, r_b, p)\n",
    "\n",
    "# c) 5 jogadas para capturar 1 item\n",
    "r_c, k_c = 1, 5\n",
    "prob_c = nbinom.pmf(k_c - r_c, r_c, p)\n",
    "\n",
    "# Resultados\n",
    "print(f\"a) Probabilidade de 10 jogadas para 3 itens: {prob_a:.4f}\")\n",
    "print(f\"b) Probabilidade de 20 jogadas para 3 itens: {prob_b:.4f}\")\n",
    "print(f\"c) Probabilidade de 5 jogadas para 1 item: {prob_c:.4f}\")"
   ]
  },
  {
   "cell_type": "markdown",
   "metadata": {},
   "source": [
    "# Bernoulli"
   ]
  },
  {
   "cell_type": "code",
   "execution_count": 7,
   "metadata": {},
   "outputs": [
    {
     "name": "stdout",
     "output_type": "stream",
     "text": [
      "Probabilidade de aprovação (X = 1): 0.48\n",
      "Probabilidade de reprovação (X = 0): 0.52\n"
     ]
    }
   ],
   "source": [
    "from scipy.stats import bernoulli\n",
    "\n",
    "# Parâmetro\n",
    "p = 0.48  # Probabilidade de aprovação\n",
    "\n",
    "# Criando uma variável aleatória de Bernoulli\n",
    "X = bernoulli(p)\n",
    "\n",
    "# Calculando as probabilidades\n",
    "prob_aprovacao = X.pmf(1)  # P(X = 1)\n",
    "prob_reprovacao = X.pmf(0)  # P(X = 0)\n",
    "\n",
    "# Resultados\n",
    "print(f\"Probabilidade de aprovação (X = 1): {prob_aprovacao:.2f}\")\n",
    "print(f\"Probabilidade de reprovação (X = 0): {prob_reprovacao:.2f}\")"
   ]
  }
 ],
 "metadata": {
  "kernelspec": {
   "display_name": "Python 3",
   "language": "python",
   "name": "python3"
  },
  "language_info": {
   "codemirror_mode": {
    "name": "ipython",
    "version": 3
   },
   "file_extension": ".py",
   "mimetype": "text/x-python",
   "name": "python",
   "nbconvert_exporter": "python",
   "pygments_lexer": "ipython3",
   "version": "3.9.13"
  }
 },
 "nbformat": 4,
 "nbformat_minor": 2
}
