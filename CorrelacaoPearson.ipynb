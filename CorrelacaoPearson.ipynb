{
 "cells": [
  {
   "cell_type": "code",
   "execution_count": 1,
   "metadata": {},
   "outputs": [],
   "source": [
    "import numpy as np\n",
    "from scipy.stats import pearsonr"
   ]
  },
  {
   "cell_type": "code",
   "execution_count": 2,
   "metadata": {},
   "outputs": [],
   "source": [
    "# Dados\n",
    "horas_estudadas = [2, 4, 6, 8, 10]\n",
    "notas = [4, 5, 7, 9, 10]"
   ]
  },
  {
   "cell_type": "code",
   "execution_count": 6,
   "metadata": {},
   "outputs": [
    {
     "name": "stdout",
     "output_type": "stream",
     "text": [
      "Correlação de Pearson: 0.99\n",
      "Valor-p: 0.0008136455681979815\n",
      "Rejeitamos a hipótese nula: há uma correlação significativa entre horas estudadas e notas.\n"
     ]
    }
   ],
   "source": [
    "correlacao, p_valor = pearsonr(horas_estudadas, notas)\n",
    "\n",
    "# Resultados\n",
    "print(f\"Correlação de Pearson: {correlacao:.2f}\")\n",
    "print(f\"Valor-p: {p_valor}\")\n",
    "\n",
    "# Interpretação\n",
    "if p_valor < 0.05:\n",
    "    print(\"Rejeitamos a hipótese nula: há uma correlação significativa entre horas estudadas e notas.\")\n",
    "else:\n",
    "    print(\"Não rejeitamos a hipótese nula: não há uma correlação significativa entre horas estudadas e notas.\")"
   ]
  }
 ],
 "metadata": {
  "kernelspec": {
   "display_name": "Python 3",
   "language": "python",
   "name": "python3"
  },
  "language_info": {
   "codemirror_mode": {
    "name": "ipython",
    "version": 3
   },
   "file_extension": ".py",
   "mimetype": "text/x-python",
   "name": "python",
   "nbconvert_exporter": "python",
   "pygments_lexer": "ipython3",
   "version": "3.9.13"
  }
 },
 "nbformat": 4,
 "nbformat_minor": 2
}
